{
 "cells": [
  {
   "cell_type": "code",
   "execution_count": 1,
   "metadata": {},
   "outputs": [],
   "source": [
    "# Load the data using msgspec and pandas\n",
    "import msgspec\n",
    "import datetime\n",
    "import pandas as pd\n",
    "from pathlib import Path\n",
    "\n",
    "# Define the Card object to specify the different fields\n",
    "class Card(msgspec.Struct, dict=True):\n",
    "    name: str | None = None\n",
    "    mana_cost: str | None = None\n",
    "    set: str | None = None\n",
    "    cmc: float | None = None\n",
    "    power: str | None = None\n",
    "    toughness: str | None = None\n",
    "    colors: list[str] | None = None\n",
    "    oracle_text: str | None = None\n",
    "    keywords: list[str] | None = None\n",
    "    type_line: str | None = None\n",
    "    released_at: datetime.date | None = None\n",
    "    reprint: bool | None = None\n",
    "    image_uris: dict | None = None\n",
    "    id: str | None = None\n",
    "    # legalities: dict[str, str] | None = None\n",
    "\n",
    "# Decode json into Card objects\n",
    "with open(\"../data/default-cards-20240508090556.json\", \"rb\") as json_file:\n",
    "    dataset = msgspec.json.decode(json_file.read(), type=list[Card])\n",
    "\n",
    "# Load into to a pandas dataframe\n",
    "data = pd.DataFrame([msgspec.structs.asdict(card) for card in dataset])\n",
    "\n",
    "# Remove reprints\n",
    "data = data[data[\"reprint\"] == False]\n"
   ]
  },
  {
   "cell_type": "code",
   "execution_count": 8,
   "metadata": {},
   "outputs": [
    {
     "data": {
      "application/vnd.jupyter.widget-view+json": {
       "model_id": "8ed783a3216c49eda471b0e5195c69fe",
       "version_major": 2,
       "version_minor": 0
      },
      "text/plain": [
       "  0%|          | 0/38378 [00:00<?, ?it/s]"
      ]
     },
     "metadata": {},
     "output_type": "display_data"
    },
    {
     "data": {
      "text/plain": [
       "0        None\n",
       "1        None\n",
       "3        None\n",
       "5        None\n",
       "6        None\n",
       "         ... \n",
       "94832    None\n",
       "94833    None\n",
       "94836    None\n",
       "94840    None\n",
       "94841    None\n",
       "Length: 38378, dtype: object"
      ]
     },
     "execution_count": 8,
     "metadata": {},
     "output_type": "execute_result"
    }
   ],
   "source": [
    "import urllib.request\n",
    "import shutil\n",
    "import time\n",
    "from tqdm.notebook import tqdm_notebook\n",
    "no_art = []\n",
    "def download_art(row):\n",
    "    if row[\"image_uris\"] is None:\n",
    "        no_art.append(row[\"id\"])\n",
    "        return\n",
    "    output_file = Path(\"../data/art/\", row[\"id\"] + \".jpg\")\n",
    "    if output_file.exists():\n",
    "        return\n",
    "    response = urllib.request.urlopen(row[\"image_uris\"][\"art_crop\"])\n",
    "    with open(output_file, 'wb') as writer:\n",
    "        shutil.copyfileobj(response, writer, 5*1024*1024)\n",
    "    time.sleep(0.1)\n",
    "    # (row[\"id\"], row[\"image_uris\"][\"art_crop\"]))\n",
    "\n",
    "tqdm_notebook.pandas()\n",
    "data[[\"id\", \"image_uris\"]].progress_apply(download_art, axis=1)\n"
   ]
  }
 ],
 "metadata": {
  "kernelspec": {
   "display_name": ".venv",
   "language": "python",
   "name": "python3"
  },
  "language_info": {
   "codemirror_mode": {
    "name": "ipython",
    "version": 3
   },
   "file_extension": ".py",
   "mimetype": "text/x-python",
   "name": "python",
   "nbconvert_exporter": "python",
   "pygments_lexer": "ipython3",
   "version": "3.12.0"
  }
 },
 "nbformat": 4,
 "nbformat_minor": 2
}
